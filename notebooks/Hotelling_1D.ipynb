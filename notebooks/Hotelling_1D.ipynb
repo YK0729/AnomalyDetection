{
 "cells": [
  {
   "cell_type": "markdown",
   "id": "ee8da61f-e3b4-47ac-8784-2065d7a52045",
   "metadata": {},
   "source": [
    "### Hotelling T2法（1次元バージョン）\n",
    "参考文献:<br>\n",
    "> 井出剛. 2015. 入門機械学習による異常検知. コロナ社. pp.15-36."
   ]
  },
  {
   "cell_type": "code",
   "execution_count": 40,
   "id": "dd0eb817-d24c-4554-9094-6921ed4d2fa1",
   "metadata": {},
   "outputs": [],
   "source": [
    "import numpy as np\n",
    "import pandas as pd\n",
    "import matplotlib.pyplot as plt\n",
    "from scipy import stats\n",
    "from typing import Union, Literal"
   ]
  },
  {
   "cell_type": "markdown",
   "id": "135bc2ad-ed1a-47df-9e24-7271f2e524a0",
   "metadata": {},
   "source": [
    "#### 1次元のデータにおける、ホテリングT2法の特徴\n",
    "1. データは正規分布を仮定\n",
    "2. 分布の当てはまり（≃平均からどの程度外れているか）をもとに異常度が定義されているため、直観的に理解しやすい\n",
    "3. 異常度の閾値含め、種々の分布に基づきクリアに設定することが可能"
   ]
  },
  {
   "cell_type": "markdown",
   "id": "305fc313-3087-4801-993d-05a0e7a4d5ca",
   "metadata": {},
   "source": [
    "#### ホテリングT2法の手順 <br>\n",
    "#### 1. 分布の推定\n",
    "データは正規分布に従うと仮定する。\n",
    "$$\n",
    "N(x|\\mu, \\sigma^2) = \\frac{1}{(2 \\pi \\sigma^2)^{1/2}} \\exp \\biggl\\{ - \\frac{1}{2 \\sigma^2} (x-\\mu)^2 \\biggr\\}\n",
    "$$\n",
    "\n",
    "上式における $\\mu$ は母集団における平均、$\\sigma^2$は母集団における分散である。これらは一般に未知であるため推定する必要がある。<br>\n",
    "上2変数は手元に存在するデータ集合 $D = \\{ x^{(1)}, x^{(2)}, \\cdots, x^{(N)} \\}$ の最尤推定量は以下のように導出することができる。<br>\n",
    "\n",
    "\n",
    "$$\\hat{\\mu} =\\frac{1}{N} \\sum_{n=1}^N x^{(n)}$$\n",
    "$$\\hat{\\sigma^2} = \\frac{1}{N} \\sum_{n=1}^N (x^{(n)}-\\hat{\\mu})^2$$\n",
    "\n",
    "\n",
    "#### 2. 異常度の定義\n",
    "新たなデータx'が観測された場合、以下に定義される異常度として算出される。<br>\n",
    "$$a(x') \\equiv \\biggr( \\frac{x'-\\hat{\\mu}}{\\hat{\\sigma}} \\biggl)^2$$\n",
    "\n",
    "#### 3. 閾値の設定\n",
    "異常度は $F$ 分布、もしくは $\\chi^2$ 分布に従うことが示される。<br>\n",
    "$$ \\frac{N-1}{N+1} a(x') \\sim F(1, N-1)$$\n",
    "$$ a(x') \\sim \\chi^2(1, 1) \\quad (N \\gg 1)$$\n",
    "仮説検定と同様に、閾値 $a_{th}$ を設定し、使用する分布の閾値を超える場合は異常とみなす。"
   ]
  },
  {
   "cell_type": "markdown",
   "id": "61e6a738-60e2-45eb-b281-e5d26d11d3e9",
   "metadata": {},
   "source": [
    "### 関数の定義\n",
    "上記に基づき、実装する"
   ]
  },
  {
   "cell_type": "code",
   "execution_count": 103,
   "id": "3c55e0e1-9776-45fa-bf81-137e8c14fa0f",
   "metadata": {},
   "outputs": [],
   "source": [
    "class HotellingT2:\n",
    "    def __init__(self, a_threshold):\n",
    "        #異常判定の閾値パーセンタイルのデフォルト値\n",
    "        self.a_threshold = a_threshold\n",
    "        self.x = None\n",
    "        self.mu_hat = None\n",
    "        self.sigma_hat = None\n",
    "        self.sample_size = None\n",
    "\n",
    "    def fit(self, x: np.ndarray):\n",
    "        self.mu_hat = np.mean(x)\n",
    "        self.sigma_hat = np.std(x)\n",
    "        self.sample_size = len(x)\n",
    "        self.x = x\n",
    "    \n",
    "    def get_anomaly_score(self, x_test: Union[float, np.ndarray]) -> Union[float, np.ndarray]:\n",
    "        #異常度の算出\n",
    "        anomaly_score = ((x_test - self.mu_hat)/ self.sigma_hat)**2\n",
    "        return anomaly_score\n",
    "\n",
    "    def anomaly_judgement(self, anomaly_score: Union[float, np.ndarray], dist: Literal[\"chi_square\", \"f\"]) \\\n",
    "        -> Union[float, np.ndarray]:\n",
    "        #χ二乗分布の場合\n",
    "        if dist == \"f\":\n",
    "            percentile = self.F_percentile(anomaly_score)\n",
    "        else: #F分布の場合\n",
    "            percentile = self.chi_square_percentile(anomaly_score)\n",
    "        #異常判定    \n",
    "        anomaly_judgement = (percentile < self.a_threshold)*1\n",
    "        return anomaly_judgement\n",
    "\n",
    "    def chi_square_percentile(self, anomaly_score: Union[float, np.ndarray]) -> Union[float, np.ndarray]:\n",
    "        #自由度1, スケール因子1の χ二乗分布に従うため、異常値がどのパーセンタイルに対応するか算出する\n",
    "        chi_square_percentile = stats.chi2.cdf(anomaly_score, df=1, scale=1)\n",
    "        return 1 - chi_square_percentile\n",
    "\n",
    "    def F_percentile(self, anomaly_score: Union[float, np.ndarray]) -> Union[float, np.ndarray]:\n",
    "        #自由度（1, N-1）の F分布に従うため、異常値がどのパーセンタイルに対応するか算出する\n",
    "        f_percentile = stats.f.cdf(anomaly_score, dfn=1, dfd=self.sample_size-1, scale=1)\n",
    "        return 1 - f_percentile"
   ]
  },
  {
   "cell_type": "markdown",
   "id": "c264e6fd-1320-4e0d-a00a-d05c7e3eb14f",
   "metadata": {},
   "source": [
    "### 例題への適用\n",
    "Davisデータセットに適用する"
   ]
  },
  {
   "cell_type": "code",
   "execution_count": 46,
   "id": "a9649d6c-95a1-4c16-a598-ba65a0e6b487",
   "metadata": {},
   "outputs": [
    {
     "data": {
      "text/html": [
       "<div>\n",
       "<style scoped>\n",
       "    .dataframe tbody tr th:only-of-type {\n",
       "        vertical-align: middle;\n",
       "    }\n",
       "\n",
       "    .dataframe tbody tr th {\n",
       "        vertical-align: top;\n",
       "    }\n",
       "\n",
       "    .dataframe thead th {\n",
       "        text-align: right;\n",
       "    }\n",
       "</style>\n",
       "<table border=\"1\" class=\"dataframe\">\n",
       "  <thead>\n",
       "    <tr style=\"text-align: right;\">\n",
       "      <th></th>\n",
       "      <th>weight</th>\n",
       "      <th>height</th>\n",
       "    </tr>\n",
       "  </thead>\n",
       "  <tbody>\n",
       "    <tr>\n",
       "      <th>0</th>\n",
       "      <td>77</td>\n",
       "      <td>182</td>\n",
       "    </tr>\n",
       "    <tr>\n",
       "      <th>1</th>\n",
       "      <td>58</td>\n",
       "      <td>161</td>\n",
       "    </tr>\n",
       "    <tr>\n",
       "      <th>2</th>\n",
       "      <td>53</td>\n",
       "      <td>161</td>\n",
       "    </tr>\n",
       "    <tr>\n",
       "      <th>3</th>\n",
       "      <td>68</td>\n",
       "      <td>177</td>\n",
       "    </tr>\n",
       "    <tr>\n",
       "      <th>4</th>\n",
       "      <td>59</td>\n",
       "      <td>157</td>\n",
       "    </tr>\n",
       "    <tr>\n",
       "      <th>...</th>\n",
       "      <td>...</td>\n",
       "      <td>...</td>\n",
       "    </tr>\n",
       "    <tr>\n",
       "      <th>195</th>\n",
       "      <td>74</td>\n",
       "      <td>175</td>\n",
       "    </tr>\n",
       "    <tr>\n",
       "      <th>196</th>\n",
       "      <td>83</td>\n",
       "      <td>180</td>\n",
       "    </tr>\n",
       "    <tr>\n",
       "      <th>197</th>\n",
       "      <td>81</td>\n",
       "      <td>175</td>\n",
       "    </tr>\n",
       "    <tr>\n",
       "      <th>198</th>\n",
       "      <td>90</td>\n",
       "      <td>181</td>\n",
       "    </tr>\n",
       "    <tr>\n",
       "      <th>199</th>\n",
       "      <td>79</td>\n",
       "      <td>177</td>\n",
       "    </tr>\n",
       "  </tbody>\n",
       "</table>\n",
       "<p>200 rows × 2 columns</p>\n",
       "</div>"
      ],
      "text/plain": [
       "     weight  height\n",
       "0        77     182\n",
       "1        58     161\n",
       "2        53     161\n",
       "3        68     177\n",
       "4        59     157\n",
       "..      ...     ...\n",
       "195      74     175\n",
       "196      83     180\n",
       "197      81     175\n",
       "198      90     181\n",
       "199      79     177\n",
       "\n",
       "[200 rows x 2 columns]"
      ]
     },
     "execution_count": 46,
     "metadata": {},
     "output_type": "execute_result"
    }
   ],
   "source": [
    "df = pd.read_csv('https://vincentarelbundock.github.io/Rdatasets/csv/carData/Davis.csv', index_col=False)\n",
    "df = df[['weight', 'height']]\n",
    "df"
   ]
  },
  {
   "cell_type": "markdown",
   "id": "26f9a8cc-9997-41c2-9e4e-fd65b9b80ef2",
   "metadata": {},
   "source": [
    "簡単な可視化を行う"
   ]
  },
  {
   "cell_type": "code",
   "execution_count": 55,
   "id": "40caa747-de6d-44bc-9882-29d75a97e2ce",
   "metadata": {},
   "outputs": [
    {
     "data": {
      "image/png": "[encoded data removed]",
      "text/plain": [
       "<Figure size 700x250 with 2 Axes>"
      ]
     },
     "metadata": {},
     "output_type": "display_data"
    }
   ],
   "source": [
    "fig, ax = plt.subplots(1, 2, figsize=(7, 2.5), sharey=\"all\")\n",
    "ax[0].hist(df[\"weight\"].values, bins=int(np.sqrt(len(df))), edgecolor=\"gray\", facecolor=\"skyblue\")\n",
    "ax[0].set_xlabel(\"weight [kg]\")\n",
    "ax[1].hist(df[\"height\"].values, bins=int(np.sqrt(len(df))), edgecolor=\"gray\", facecolor=\"skyblue\")\n",
    "ax[1].set_xlabel(\"height [cm]\")\n",
    "plt.show()\n",
    "plt.close()"
   ]
  },
  {
   "cell_type": "markdown",
   "id": "c029b9f7-545c-444b-96d0-dc8cfd0ea5e8",
   "metadata": {},
   "source": [
    "下側半分のデータを基に、モデルを構築する。<br>\n",
    "対象は体重データ。"
   ]
  },
  {
   "cell_type": "code",
   "execution_count": 104,
   "id": "298c7e38-7534-4252-bacb-25909bf9d665",
   "metadata": {},
   "outputs": [],
   "source": [
    "#変数の定義\n",
    "x = df[\"weight\"].values\n",
    "x_train, x_test = x[100:], x[:100]\n",
    "\n",
    "#異常検知\n",
    "cls = HotellingT2(a_threshold=0.01) #閾値：上位1%に設定\n",
    "cls.fit(x_train)\n",
    "anomaly_score_train, anomaly_score_test = cls.get_anomaly_score(x_train), cls.get_anomaly_score(x_test)\n",
    "anomaly_train_flag, anomaly_test_flag = cls.anomaly_judgement(anomaly_score_train, dist=\"f\"), \\\n",
    "                                        cls.anomaly_judgement(anomaly_score_test, dist=\"f\")"
   ]
  },
  {
   "cell_type": "code",
   "execution_count": 109,
   "id": "993092fb-a522-4be7-87bd-2d5c1bd66a07",
   "metadata": {},
   "outputs": [
    {
     "data": {
      "image/png": "[encoded data removed]",
      "text/plain": [
       "<Figure size 1200x300 with 3 Axes>"
      ]
     },
     "metadata": {},
     "output_type": "display_data"
    }
   ],
   "source": [
    "#結果の描画\n",
    "fig, ax = plt.subplots(1, 3, figsize=(12, 3))\n",
    "ax[0].plot(np.arange(len(anomaly_score_test)), anomaly_score_test, ls=\"\", \n",
    "         marker=\"o\", markerfacecolor=\"none\", markeredgecolor=\"red\", markersize=3)\n",
    "ax[0].plot(np.arange(len(anomaly_score_test), len(anomaly_score_test)*2), anomaly_score_train, ls=\"\", \n",
    "         marker=\"o\", markerfacecolor=\"none\", markeredgecolor=\"blue\", markersize=3)\n",
    "ax[0].set_ylabel(\"Anomaly score\")\n",
    "\n",
    "ax[1].hist(anomaly_score_test, facecolor=\"red\", edgecolor=\"gray\", range=(0, 70), bins=70, alpha=0.5)\n",
    "ax[1].hist(anomaly_score_train, facecolor=\"blue\", edgecolor=\"gray\", range=(0, 70), bins=70, alpha=0.5)\n",
    "ax[1].set_xlabel(\"Anomaly score\")\n",
    "\n",
    "ax[2].plot(np.arange(len(anomaly_score_test)), anomaly_test_flag, ls=\"\", \n",
    "         marker=\"o\", markerfacecolor=\"none\", markeredgecolor=\"red\", markersize=3)\n",
    "ax[2].plot(np.arange(len(anomaly_score_test), len(anomaly_score_test)*2), anomaly_train_flag, ls=\"\", \n",
    "         marker=\"o\", markerfacecolor=\"none\", markeredgecolor=\"blue\", markersize=3)\n",
    "ax[2].set_ylabel(\"Anomaly flag\")\n",
    "\n",
    "plt.tight_layout()\n",
    "plt.show()\n",
    "plt.close()"
   ]
  }
 ],
 "metadata": {
  "kernelspec": {
   "display_name": "anomaly_detection",
   "language": "python",
   "name": "anomaly_detection"
  },
  "language_info": {
   "codemirror_mode": {
    "name": "ipython",
    "version": 3
   },
   "file_extension": ".py",
   "mimetype": "text/x-python",
   "name": "python",
   "nbconvert_exporter": "python",
   "pygments_lexer": "ipython3",
   "version": "3.9.20"
  }
 },
 "nbformat": 4,
 "nbformat_minor": 5
}
