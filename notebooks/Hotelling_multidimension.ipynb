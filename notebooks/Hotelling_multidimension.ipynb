{
 "cells": [
  {
   "cell_type": "markdown",
   "id": "4313778b-7ef2-4bb7-9ed7-44d4e2635bf6",
   "metadata": {},
   "source": [
    "### Hotelling T2法（多次元バージョン）\n",
    "参考文献:<br>\n",
    "> 井出剛. 2015. 入門機械学習による異常検知. コロナ社. pp.37-48."
   ]
  },
  {
   "cell_type": "code",
   "execution_count": 1,
   "id": "728d2efa-975e-4a55-b9da-e40e5198241e",
   "metadata": {},
   "outputs": [],
   "source": [
    "import numpy as np\n",
    "import pandas as pd\n",
    "import matplotlib.pyplot as plt\n",
    "from scipy import stats\n",
    "from typing import Union, Literal"
   ]
  },
  {
   "cell_type": "markdown",
   "id": "4708f342-15bb-46ed-9eec-a78d9083a2e4",
   "metadata": {},
   "source": [
    "#### 多次元データにおける、ホテリングT2法の特徴\n",
    "1次元の場合に加え以下が加わる\n",
    "1. 多次元データの相関構造を考慮した異常検知が可能"
   ]
  },
  {
   "cell_type": "markdown",
   "id": "c33f70ef-08fb-4b39-90a8-a108af474972",
   "metadata": {},
   "source": [
    "#### ホテリングT2法（多次元）の手順 <br>\n",
    "#### 1. 分布の推定\n",
    "データは多次元正規分布に従うと仮定する。\n",
    "$$\n",
    "N(\\mathbfit{x}| \\boldsymbol{\\mu}, \\boldsymbol{\\Sigma}) = \\frac{|\\boldsymbol{\\Sigma}|^{-1/2}}{(2 \\pi)^{M/2}} \\exp \\biggl\\{ - \\frac{1}{2} (\\mathbfit{x} -  \\boldsymbol{\\mu})^\\top \\boldsymbol{\\Sigma}^{-1} (\\mathbfit{x} -  \\boldsymbol{\\mu}) \\biggr\\}\n",
    "$$\n",
    "\n",
    "上記において、$M$ は変数 $\\mathbfit{x}$ の次元数であり、$\\boldsymbol{\\mu}$ および $\\boldsymbol{\\Sigma}$ は以下に定義される平均ベクトル、および共分散行列である。<br>\n",
    "\n",
    "$$\n",
    "\\boldsymbol{\\mu} = (\\mu^{(1)}, \\mu^{(2)}, \\cdots, \\mu^{(M)})\n",
    "$$\n",
    "\n",
    "$$\n",
    "\\boldsymbol{\\Sigma} = \n",
    "$$\n",
    "\n",
    "#### 2. 異常度の定義\n",
    "\n",
    "#### 3. 閾値の設定\n"
   ]
  },
  {
   "cell_type": "code",
   "execution_count": null,
   "id": "989a6473-719d-4999-9241-170fc7a7e494",
   "metadata": {},
   "outputs": [],
   "source": []
  }
 ],
 "metadata": {
  "kernelspec": {
   "display_name": "anomaly_detection",
   "language": "python",
   "name": "anomaly_detection"
  },
  "language_info": {
   "codemirror_mode": {
    "name": "ipython",
    "version": 3
   },
   "file_extension": ".py",
   "mimetype": "text/x-python",
   "name": "python",
   "nbconvert_exporter": "python",
   "pygments_lexer": "ipython3",
   "version": "3.9.20"
  }
 },
 "nbformat": 4,
 "nbformat_minor": 5
}
