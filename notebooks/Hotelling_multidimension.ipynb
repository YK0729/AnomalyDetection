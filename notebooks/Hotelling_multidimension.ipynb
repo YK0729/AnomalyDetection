{
 "cells": [
  {
   "cell_type": "markdown",
   "id": "4313778b-7ef2-4bb7-9ed7-44d4e2635bf6",
   "metadata": {},
   "source": [
    "### Hotelling T2法（多次元バージョン）& マハラノビス=タグチ法\n",
    "参考文献:<br>\n",
    "> 井出剛. 2015. 入門機械学習による異常検知. コロナ社. pp.37-58."
   ]
  },
  {
   "cell_type": "code",
   "execution_count": 3,
   "id": "728d2efa-975e-4a55-b9da-e40e5198241e",
   "metadata": {},
   "outputs": [],
   "source": [
    "import os\n",
    "import numpy as np\n",
    "import pandas as pd\n",
    "import matplotlib.pyplot as plt\n",
    "from scipy import stats\n",
    "from typing import Union, Literal"
   ]
  },
  {
   "cell_type": "markdown",
   "id": "2da84176-941b-45c6-8a7a-f628b901a0fc",
   "metadata": {},
   "source": [
    "-----\n",
    "### Hotelling T2法（多次元）"
   ]
  },
  {
   "cell_type": "markdown",
   "id": "4708f342-15bb-46ed-9eec-a78d9083a2e4",
   "metadata": {},
   "source": [
    "#### 多次元データにおける、ホテリングT2法の特徴\n",
    "1次元の場合に加え、以下の特徴が追記される。\n",
    "1. 多次元データの相関構造を考慮した異常検知が可能<br>\n",
    "&nbsp;\n",
    "\n",
    "ただし、以下点については言及することができない。\n",
    "1. 異常度に対する、各変数の寄与度合い"
   ]
  },
  {
   "cell_type": "markdown",
   "id": "c33f70ef-08fb-4b39-90a8-a108af474972",
   "metadata": {},
   "source": [
    "#### ホテリングT2法（多次元）の手順 <br>\n",
    "#### 1. 分布パラメーターの推定\n",
    "データは多次元正規分布に従うと仮定する。\n",
    "$$\n",
    "N(\\mathbfit{x}| \\boldsymbol{\\mu}, \\boldsymbol{\\Sigma}) = \\frac{|\\boldsymbol{\\Sigma}|^{-1/2}}{(2 \\pi)^{M/2}} \\exp \\biggl\\{ - \\frac{1}{2} (\\mathbfit{x} -  \\boldsymbol{\\mu})^\\top \\boldsymbol{\\Sigma}^{-1} (\\mathbfit{x} -  \\boldsymbol{\\mu}) \\biggr\\}\n",
    "$$\n",
    "\n",
    "上記において、$M$ は変数 $\\mathbfit{x} = (x_1, x_2, \\dots, x_M)$ の次元数であり、$\\boldsymbol{\\mu}$ および $\\boldsymbol{\\Sigma}$ は以下に定義される平均ベクトル、および分散共分散行列である。<br>\n",
    "\n",
    "$$\n",
    "\\boldsymbol{\\mu} = (\\mu_1, \\mu_2, \\cdots, \\mu_M)\n",
    "$$\n",
    "\n",
    "$$\n",
    "\\boldsymbol{\\Sigma} = \n",
    "\\begin{pmatrix}\n",
    "   \\sigma_{11} &  \\sigma_{12} & \\dots & \\sigma_{1M}\\\\\n",
    "   \\sigma_{21} & \\sigma_{22} & \\dots  & \\sigma_{2M} \\\\\n",
    "   \\vdots & \\vdots & \\ddots & \\vdots \\\\\n",
    "   \\sigma_{M1} & \\sigma_{M2} & \\dots & \\sigma_{MM}\n",
    "\\end{pmatrix}\n",
    "$$\n",
    "\n",
    "$$\n",
    "\\begin{equation}\n",
    "  \\sigma_{ij} =\n",
    "  \\begin{cases}\n",
    "    \\rm Var & \\text{if $i=j$,} \\\\\n",
    "    \\rm Cov & \\text{if $i \\ne j$,}\n",
    "  \\end{cases}\n",
    "\\end{equation}\n",
    "$$\n",
    "\n",
    "ここで Var とは分散、Cov とは共分散に対応する。<br>\n",
    "一次元の時と同様、母集団における $\\boldsymbol{\\mu}$ および $\\boldsymbol{\\Sigma}$ は未知である。\n",
    "手元に存在するデータ集合を $D = \\{ \\mathbfit{x}^{(1)}, \\mathbfit{x}^{(2)}, \\cdots, \\mathbfit{x}^{(N)} \\}$ とすると、最尤推定量は以下のように導出することができる。<br>\n",
    "\n",
    "$$\n",
    "\\hat{\\boldsymbol{\\mu}} = \\frac{1}{N} \\sum_{n=1}^N \\boldsymbol{\\mu}^{(n)}\n",
    "$$\n",
    "\n",
    "$$\n",
    "\\hat{\\boldsymbol{\\Sigma}} = \\frac{1}{N} \\sum_{n=1}^N (\\mathbfit{x}^{(n)} - \\hat{\\boldsymbol{\\mu}})(\\mathbfit{x}^{(n)} - \\hat{\\boldsymbol{\\mu}})^\\top\n",
    "$$\n",
    "\n",
    "#### 2. 異常度の定義\n",
    "新たなデータx'が観測された場合、以下に定義される異常度として算出される。<br>\n",
    "$$a(\\mathbfit{x'}) \\equiv (\\mathbfit{x'} - \\hat{\\boldsymbol{\\mu}})^\\top \\hat{\\boldsymbol{\\Sigma}}^{-1} (\\mathbfit{x'} - \\hat{\\boldsymbol{\\mu}})$$\n",
    "上記異常度は一般に、マハラノビス距離と呼ばれる距離指標に対応する。\n",
    "\n",
    "#### 3. 閾値の設定\n",
    "異常度は、自由度 (M, N-M) の $F$ 分布、もしくは自由度M、スケール因子1の $\\chi^2$ 分布に従うことが示される。<br>\n",
    "$$ \\frac{N-M}{(N+1)M} a(\\mathbfit{x'}) \\sim F(M, N-M)$$\n",
    "$$ a(\\mathbfit{x'}) \\sim \\chi^2(M, 1) \\quad (N \\gg M)$$\n",
    "閾値 $a_{th}$ を設定し、使用する分布の閾値を超える場合は異常とみなす。"
   ]
  },
  {
   "cell_type": "markdown",
   "id": "240007dd-ba20-45e0-af50-ce5bc55991c1",
   "metadata": {},
   "source": [
    "------\n",
    "### マハラノビス=タグチ法"
   ]
  },
  {
   "cell_type": "code",
   "execution_count": null,
   "id": "923d9a57-8dae-49ce-b7c3-0b3ad730ee90",
   "metadata": {},
   "outputs": [],
   "source": []
  },
  {
   "cell_type": "code",
   "execution_count": null,
   "id": "0987933f-8d16-4963-8ecc-5a41b38d876a",
   "metadata": {},
   "outputs": [],
   "source": []
  },
  {
   "cell_type": "markdown",
   "id": "4ef47516-6231-4757-ad01-9d4832aee15d",
   "metadata": {},
   "source": [
    "適用対象のデータを呼び出す"
   ]
  },
  {
   "cell_type": "code",
   "execution_count": 11,
   "id": "0a78ca96-7c1c-4c16-9641-c36f72929b58",
   "metadata": {},
   "outputs": [
    {
     "data": {
      "text/html": [
       "<div>\n",
       "<style scoped>\n",
       "    .dataframe tbody tr th:only-of-type {\n",
       "        vertical-align: middle;\n",
       "    }\n",
       "\n",
       "    .dataframe tbody tr th {\n",
       "        vertical-align: top;\n",
       "    }\n",
       "\n",
       "    .dataframe thead th {\n",
       "        text-align: right;\n",
       "    }\n",
       "</style>\n",
       "<table border=\"1\" class=\"dataframe\">\n",
       "  <thead>\n",
       "    <tr style=\"text-align: right;\">\n",
       "      <th></th>\n",
       "      <th>weight</th>\n",
       "      <th>height</th>\n",
       "    </tr>\n",
       "  </thead>\n",
       "  <tbody>\n",
       "    <tr>\n",
       "      <th>0</th>\n",
       "      <td>77</td>\n",
       "      <td>182</td>\n",
       "    </tr>\n",
       "    <tr>\n",
       "      <th>1</th>\n",
       "      <td>58</td>\n",
       "      <td>161</td>\n",
       "    </tr>\n",
       "    <tr>\n",
       "      <th>2</th>\n",
       "      <td>53</td>\n",
       "      <td>161</td>\n",
       "    </tr>\n",
       "    <tr>\n",
       "      <th>3</th>\n",
       "      <td>68</td>\n",
       "      <td>177</td>\n",
       "    </tr>\n",
       "    <tr>\n",
       "      <th>4</th>\n",
       "      <td>59</td>\n",
       "      <td>157</td>\n",
       "    </tr>\n",
       "    <tr>\n",
       "      <th>...</th>\n",
       "      <td>...</td>\n",
       "      <td>...</td>\n",
       "    </tr>\n",
       "    <tr>\n",
       "      <th>195</th>\n",
       "      <td>74</td>\n",
       "      <td>175</td>\n",
       "    </tr>\n",
       "    <tr>\n",
       "      <th>196</th>\n",
       "      <td>83</td>\n",
       "      <td>180</td>\n",
       "    </tr>\n",
       "    <tr>\n",
       "      <th>197</th>\n",
       "      <td>81</td>\n",
       "      <td>175</td>\n",
       "    </tr>\n",
       "    <tr>\n",
       "      <th>198</th>\n",
       "      <td>90</td>\n",
       "      <td>181</td>\n",
       "    </tr>\n",
       "    <tr>\n",
       "      <th>199</th>\n",
       "      <td>79</td>\n",
       "      <td>177</td>\n",
       "    </tr>\n",
       "  </tbody>\n",
       "</table>\n",
       "<p>200 rows × 2 columns</p>\n",
       "</div>"
      ],
      "text/plain": [
       "     weight  height\n",
       "0        77     182\n",
       "1        58     161\n",
       "2        53     161\n",
       "3        68     177\n",
       "4        59     157\n",
       "..      ...     ...\n",
       "195      74     175\n",
       "196      83     180\n",
       "197      81     175\n",
       "198      90     181\n",
       "199      79     177\n",
       "\n",
       "[200 rows x 2 columns]"
      ]
     },
     "execution_count": 11,
     "metadata": {},
     "output_type": "execute_result"
    }
   ],
   "source": [
    "#Davis\n",
    "current_path = os.getcwd()\n",
    "df_davis = pd.read_csv(os.path.join(os.path.dirname(current_path), \"dataset\", \"Davis.csv\"))\n",
    "df_davis"
   ]
  },
  {
   "cell_type": "code",
   "execution_count": null,
   "id": "eddc5678-95ef-4580-bf29-185d325aa06d",
   "metadata": {},
   "outputs": [],
   "source": []
  }
 ],
 "metadata": {
  "kernelspec": {
   "display_name": "anomaly_detection",
   "language": "python",
   "name": "anomaly_detection"
  },
  "language_info": {
   "codemirror_mode": {
    "name": "ipython",
    "version": 3
   },
   "file_extension": ".py",
   "mimetype": "text/x-python",
   "name": "python",
   "nbconvert_exporter": "python",
   "pygments_lexer": "ipython3",
   "version": "3.9.20"
  }
 },
 "nbformat": 4,
 "nbformat_minor": 5
}
