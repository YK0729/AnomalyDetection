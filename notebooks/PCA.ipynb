{
 "cells": [
  {
   "cell_type": "markdown",
   "id": "b4b60e28-acb2-4e1f-8a7d-489d7e1b5b29",
   "metadata": {},
   "source": [
    "### 主成分分析\n",
    "参考文献:<br>\n",
    "> 井出剛. 2015. 入門機械学習による異常検知. コロナ社. pp.123-139. <br>\n",
    "> MacGregor JF, Kourti T. 1995. Statistical process control of multivariate processes. Control Eng. Practice. 3: 403-414."
   ]
  },
  {
   "cell_type": "code",
   "execution_count": 1,
   "id": "43d73b18-a8b9-45ce-abe3-915fb955ef69",
   "metadata": {},
   "outputs": [],
   "source": [
    "import os\n",
    "import numpy as np\n",
    "import pandas as pd\n",
    "import matplotlib.pyplot as plt\n",
    "from scipy import stats\n",
    "from typing import Union, Literal, Annotated"
   ]
  },
  {
   "cell_type": "markdown",
   "id": "b4bf31c9-2f0c-43db-b29a-2d4a6f615dac",
   "metadata": {},
   "source": [
    "#### PCA法の特徴\n",
    "1. 各変数の情報からうまく基底をつくりだすことにより、多次元の有する情報を低次元に落とし込むことが可能<br>\n",
    "2. 上記より、不要な変数の寄与を取り除くことができる\n",
    "3. 上記より、多次元の情報を直観的に理解しやすくすることができる\n",
    "\n",
    "&nbsp;\n",
    "\n",
    "ただし、以下点については注意が必要である。\n",
    "1. 変数の線形和であらわされた新たな変数（主成分）は、必ずしも解釈が容易ではない\n",
    "2. 各変数の寄与は一般に不明である ※1\n",
    "3. 閾値設定は経験的なものとなる ※2\n",
    "\n",
    "&nbsp;\n",
    "\n",
    "**<注釈>** <br>\n",
    "※1 各変数の寄与の算出はできない、というわけではないらしく、例えば以下には算出方法の記載が存在する <br>\n",
    "> https://www.jmp.com/support/help/ja/17.2/index.shtml#page/jmp/statistical-details-for-contributions.shtml# <br>\n",
    "\n",
    "※2 井出には記載がないものの、ベータ分布やF分布で閾値決めをしている例も存在。<br>\n",
    "> https://www.jmp.com/support/help/ja/17.2/index.shtml#page/jmp/statistical-details-for-limits.shtml#"
   ]
  },
  {
   "cell_type": "code",
   "execution_count": null,
   "id": "18d0d3a3-c933-4100-8ff0-49f90f95fc04",
   "metadata": {},
   "outputs": [],
   "source": []
  }
 ],
 "metadata": {
  "kernelspec": {
   "display_name": "anomaly_detection",
   "language": "python",
   "name": "anomaly_detection"
  },
  "language_info": {
   "codemirror_mode": {
    "name": "ipython",
    "version": 3
   },
   "file_extension": ".py",
   "mimetype": "text/x-python",
   "name": "python",
   "nbconvert_exporter": "python",
   "pygments_lexer": "ipython3",
   "version": "3.9.20"
  }
 },
 "nbformat": 4,
 "nbformat_minor": 5
}
