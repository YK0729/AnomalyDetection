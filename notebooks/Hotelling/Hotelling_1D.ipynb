{
 "cells": [
  {
   "cell_type": "markdown",
   "id": "ee8da61f-e3b4-47ac-8784-2065d7a52045",
   "metadata": {},
   "source": [
    "### Hotelling T2法（1次元バージョン）\n",
    "参考文献:<br>\n",
    "> 井出剛. 2015. 入門機械学習による異常検知. コロナ社. pp.15-36."
   ]
  },
  {
   "cell_type": "code",
   "execution_count": 1,
   "id": "dd0eb817-d24c-4554-9094-6921ed4d2fa1",
   "metadata": {},
   "outputs": [],
   "source": [
    "import os\n",
    "import numpy as np\n",
    "import pandas as pd\n",
    "import matplotlib.pyplot as plt\n",
    "from scipy import stats\n",
    "from typing import Union, Literal, Annotated"
   ]
  },
  {
   "cell_type": "markdown",
   "id": "135bc2ad-ed1a-47df-9e24-7271f2e524a0",
   "metadata": {},
   "source": [
    "#### 1次元のデータにおける、ホテリングT2法の特徴\n",
    "1. データは正規分布を仮定\n",
    "2. 分布の当てはまり（≃平均からどの程度外れているか）をもとに異常度が定義されているため、直観的に理解しやすい\n",
    "3. 異常度の閾値含め、種々の分布に基づきクリアに設定することが可能"
   ]
  },
  {
   "cell_type": "markdown",
   "id": "305fc313-3087-4801-993d-05a0e7a4d5ca",
   "metadata": {},
   "source": [
    "#### ホテリングT2法（1次元）の手順 <br>\n",
    "#### 1. 分布パラメーターの推定\n",
    "データは正規分布に従うと仮定する。\n",
    "$$\n",
    "N(x|\\mu, \\sigma^2) = \\frac{1}{(2 \\pi \\sigma^2)^{1/2}} \\exp \\biggl\\{ - \\frac{1}{2 \\sigma^2} (x-\\mu)^2 \\biggr\\}\n",
    "$$\n",
    "\n",
    "上式における $\\mu$ は母集団における平均、$\\sigma^2$は母集団における分散である。これらは一般に未知であるため推定する必要がある。<br>\n",
    "上2変数は手元に存在するデータ集合 $D = \\{ x^{(1)}, x^{(2)}, \\cdots, x^{(N)} \\}$ より推定可能で、最尤推定量は以下のように導出することができる。<br>\n",
    "\n",
    "\n",
    "$$\\hat{\\mu} =\\frac{1}{N} \\sum_{n=1}^N x^{(n)}$$\n",
    "$$\\hat{\\sigma^2} = \\frac{1}{N} \\sum_{n=1}^N (x^{(n)}-\\hat{\\mu})^2$$\n",
    "\n",
    "\n",
    "#### 2. 異常度の定義\n",
    "新たなデータx'が観測された場合、以下に定義される異常度として算出される。<br>\n",
    "$$a(x') \\equiv \\biggr( \\frac{x'-\\hat{\\mu}}{\\hat{\\sigma}} \\biggl)^2$$\n",
    "\n",
    "#### 3. 閾値の設定\n",
    "異常度は、自由度 (1, 1) の $F$ 分布、もしくは自由度1、スケール因子1の $\\chi^2$ 分布に従うことが示される。<br>\n",
    "$$ \\frac{N-1}{N+1} a(x') \\sim F(1, N-1)$$\n",
    "$$ a(x') \\sim \\chi^2(1, 1) \\quad (N \\gg 1)$$\n",
    "閾値 $a_{th}$ を設定し、使用する分布の閾値を超える場合は異常とみなす。"
   ]
  },
  {
   "cell_type": "markdown",
   "id": "61e6a738-60e2-45eb-b281-e5d26d11d3e9",
   "metadata": {},
   "source": [
    "### 関数の定義\n",
    "上記に基づき、実装する"
   ]
  },
  {
   "cell_type": "code",
   "execution_count": 25,
   "id": "3c55e0e1-9776-45fa-bf81-137e8c14fa0f",
   "metadata": {},
   "outputs": [],
   "source": [
    "class HotellingT2:\n",
    "    def __init__(self):\n",
    "        #異常判定の閾値パーセンタイルのデフォルト値\n",
    "        self.x_vector = None\n",
    "        self.mu_hat = None\n",
    "        self.sigma_hat = None\n",
    "        self.sample_size = None\n",
    "        self.anomaly_score_train = None\n",
    "\n",
    "    def fit(self, x_vector: np.ndarray):\n",
    "        self.mu_hat = np.mean(x)\n",
    "        self.sigma_hat = np.std(x)\n",
    "        self.sample_size = len(x)\n",
    "        self.x_vector = x_vector\n",
    "    \n",
    "    def get_anomaly_score(self, x_vector_test: Union[float, np.ndarray]) -> Union[float, np.ndarray]:\n",
    "        #異常度の算出\n",
    "        anomaly_score = ((x_vector_test - self.mu_hat)/ self.sigma_hat)**2\n",
    "        #訓練データの異常度\n",
    "        self.anomaly_score_train = ((self.x_vector - self.mu_hat)/ self.sigma_hat)**2\n",
    "        return anomaly_score\n",
    "\n",
    "    def anomaly_judgement(self, anomaly_score: Union[float, np.ndarray],\n",
    "                          a_threshold: Annotated[Union[int, float], \"0.0 <= value <= 1.0\"],\n",
    "                          dist: Literal[\"chi_square\", \"f\", None]) -> Union[float, np.ndarray]:\n",
    "        #閾値が適切か確認する\n",
    "        if not (0.0 <= a_threshold <= 1.0):\n",
    "            raise ValueError(\"a_threshold must be within 0.0-1.0.\")\n",
    "\n",
    "        #閾値に基づく異常判定\n",
    "        if dist == \"f\": #F分布の場合\n",
    "            percentile = self.F_percentile(anomaly_score)\n",
    "            anomaly_judgement = (percentile < a_threshold)*1 #異常判定 \n",
    "        elif dist ==\"chi_square\": #χ2乗分布の場合\n",
    "            percentile = self.chi_square_percentile(anomaly_score)\n",
    "            anomaly_judgement = (percentile < a_threshold)*1 #異常判定 \n",
    "        elif dist == None: #経験的閾値の適応に対応\n",
    "            empirical_threshold = np.percentile(self.anomaly_score_train, (1 - a_threshold)*100)\n",
    "            anomaly_judgement = (empirical_threshold < anomaly_score)*1 #異常判定 \n",
    "        else:\n",
    "            raise ValueError(\"Invalid ditribution. Input must be 'chi_square', 'f', or None.\")\n",
    "           \n",
    "        return anomaly_judgement\n",
    "\n",
    "    def chi_square_percentile(self, anomaly_score: Union[float, np.ndarray]) -> Union[float, np.ndarray]:\n",
    "        #自由度1, スケール因子1の χ二乗分布に従うため、異常値がどのパーセンタイルに対応するか算出する\n",
    "        chi_square_percentile = stats.chi2.cdf(anomaly_score, df=1, scale=1)\n",
    "        return 1 - chi_square_percentile\n",
    "\n",
    "    def F_percentile(self, anomaly_score: Union[float, np.ndarray]) -> Union[float, np.ndarray]:\n",
    "        #自由度（1, N-1）の F分布に従うため、異常値がどのパーセンタイルに対応するか算出する\n",
    "        scaling_factor = (self.sample_size-1)/(self.sample_size+1)\n",
    "        f_percentile = stats.f.cdf(scaling_factor*anomaly_score, dfn=1, dfd=self.sample_size-1, scale=1)\n",
    "        return 1 - f_percentile"
   ]
  },
  {
   "cell_type": "markdown",
   "id": "c264e6fd-1320-4e0d-a00a-d05c7e3eb14f",
   "metadata": {},
   "source": [
    "### 例題への適用\n",
    "Davisデータセットに適用する"
   ]
  },
  {
   "cell_type": "code",
   "execution_count": 18,
   "id": "a9649d6c-95a1-4c16-a598-ba65a0e6b487",
   "metadata": {},
   "outputs": [],
   "source": [
    "#Davis\n",
    "current_path = os.getcwd()\n",
    "df_davis = pd.read_csv(os.path.join(os.path.dirname(current_path), \"dataset\", \"Davis.csv\"))\n",
    "df_davis = df_davis[[\"weight\", \"height\"]]"
   ]
  },
  {
   "cell_type": "markdown",
   "id": "26f9a8cc-9997-41c2-9e4e-fd65b9b80ef2",
   "metadata": {},
   "source": [
    "簡単な可視化を行う"
   ]
  },
  {
   "cell_type": "code",
   "execution_count": 19,
   "id": "40caa747-de6d-44bc-9882-29d75a97e2ce",
   "metadata": {},
   "outputs": [
    {
     "data": {
      "image/png": "[encoded data removed]",
      "text/plain": [
       "<Figure size 700x250 with 2 Axes>"
      ]
     },
     "metadata": {},
     "output_type": "display_data"
    }
   ],
   "source": [
    "fig, ax = plt.subplots(1, 2, figsize=(7, 2.5), sharey=\"all\")\n",
    "ax[0].hist(df[\"weight\"].values, bins=int(np.sqrt(len(df))), edgecolor=\"gray\", facecolor=\"skyblue\")\n",
    "ax[0].set_xlabel(\"weight [kg]\")\n",
    "ax[1].hist(df[\"height\"].values, bins=int(np.sqrt(len(df))), edgecolor=\"gray\", facecolor=\"skyblue\")\n",
    "ax[1].set_xlabel(\"height [cm]\")\n",
    "plt.show()\n",
    "plt.close()"
   ]
  },
  {
   "cell_type": "markdown",
   "id": "c029b9f7-545c-444b-96d0-dc8cfd0ea5e8",
   "metadata": {},
   "source": [
    "下側半分のデータを基に、モデルを構築する。<br>\n",
    "対象は体重データ。"
   ]
  },
  {
   "cell_type": "code",
   "execution_count": 23,
   "id": "298c7e38-7534-4252-bacb-25909bf9d665",
   "metadata": {},
   "outputs": [],
   "source": [
    "#変数の定義\n",
    "x = df[\"weight\"].values\n",
    "x_train, x_test = x[100:], x[:100]\n",
    "\n",
    "#異常検知\n",
    "cls = HotellingT2() #閾値：上位1%に設定\n",
    "cls.fit(x_train)\n",
    "anomaly_score_test = cls.get_anomaly_score(x_test)\n",
    "anomaly_score_train = cls.anomaly_score_train\n",
    "anomaly_train_flag, anomaly_test_flag = cls.anomaly_judgement(anomaly_score_train, dist=\"f\", a_threshold=.025), \\\n",
    "                                        cls.anomaly_judgement(anomaly_score_test, dist=\"f\", a_threshold=.025)"
   ]
  },
  {
   "cell_type": "code",
   "execution_count": 24,
   "id": "993092fb-a522-4be7-87bd-2d5c1bd66a07",
   "metadata": {},
   "outputs": [
    {
     "data": {
      "image/png": "[encoded data removed]",
      "text/plain": [
       "<Figure size 1200x300 with 3 Axes>"
      ]
     },
     "metadata": {},
     "output_type": "display_data"
    }
   ],
   "source": [
    "#結果の描画\n",
    "fig, ax = plt.subplots(1, 3, figsize=(12, 3))\n",
    "ax[0].plot(np.arange(len(anomaly_score_test)), anomaly_score_test, ls=\"\", \n",
    "         marker=\"o\", markerfacecolor=\"none\", markeredgecolor=\"red\", markersize=3)\n",
    "ax[0].plot(np.arange(len(anomaly_score_test), len(anomaly_score_test)*2), anomaly_score_train, ls=\"\", \n",
    "         marker=\"o\", markerfacecolor=\"none\", markeredgecolor=\"blue\", markersize=3)\n",
    "ax[0].set_ylabel(\"Anomaly score\")\n",
    "\n",
    "ax[1].hist(anomaly_score_test, facecolor=\"red\", edgecolor=\"gray\", range=(0, 70), bins=70, alpha=0.5)\n",
    "ax[1].hist(anomaly_score_train, facecolor=\"blue\", edgecolor=\"gray\", range=(0, 70), bins=70, alpha=0.5)\n",
    "ax[1].set_xlabel(\"Anomaly score\")\n",
    "\n",
    "ax[2].plot(np.arange(len(anomaly_score_test)), anomaly_test_flag, ls=\"\", \n",
    "         marker=\"o\", markerfacecolor=\"none\", markeredgecolor=\"red\", markersize=3)\n",
    "ax[2].plot(np.arange(len(anomaly_score_test), len(anomaly_score_test)*2), anomaly_train_flag, ls=\"\", \n",
    "         marker=\"o\", markerfacecolor=\"none\", markeredgecolor=\"blue\", markersize=3)\n",
    "ax[2].set_ylabel(\"Anomaly flag\")\n",
    "\n",
    "plt.tight_layout()\n",
    "plt.show()\n",
    "plt.close()"
   ]
  },
  {
   "cell_type": "code",
   "execution_count": null,
   "id": "5b9c8526-8a9d-4d00-950d-11d69a5c2c8c",
   "metadata": {},
   "outputs": [],
   "source": []
  }
 ],
 "metadata": {
  "kernelspec": {
   "display_name": "anomaly_detection",
   "language": "python",
   "name": "anomaly_detection"
  },
  "language_info": {
   "codemirror_mode": {
    "name": "ipython",
    "version": 3
   },
   "file_extension": ".py",
   "mimetype": "text/x-python",
   "name": "python",
   "nbconvert_exporter": "python",
   "pygments_lexer": "ipython3",
   "version": "3.9.20"
  }
 },
 "nbformat": 4,
 "nbformat_minor": 5
}
