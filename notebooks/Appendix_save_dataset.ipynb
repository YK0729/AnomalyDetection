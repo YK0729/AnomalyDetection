{
 "cells": [
  {
   "cell_type": "markdown",
   "id": "3a8a9c0e-c296-427d-a5a0-30bbe0d835c8",
   "metadata": {},
   "source": [
    "検証用に使用するデータセットを呼び出し、且つ保存する"
   ]
  },
  {
   "cell_type": "code",
   "execution_count": 13,
   "id": "40cc7ba2-86ee-4d13-a9b0-b08070d22a1b",
   "metadata": {},
   "outputs": [
    {
     "data": {
      "text/html": [
       "'C:/Users/yusukekita/Documents/github/anomaly_detection/dataset'"
      ],
      "text/latex": [
       "'C:/Users/yusukekita/Documents/github/anomaly\\_detection/dataset'"
      ],
      "text/markdown": [
       "'C:/Users/yusukekita/Documents/github/anomaly_detection/dataset'"
      ],
      "text/plain": [
       "[1] \"C:/Users/yusukekita/Documents/github/anomaly_detection/dataset\""
      ]
     },
     "metadata": {},
     "output_type": "display_data"
    }
   ],
   "source": [
    "#ワーキングディレクトリの変更\n",
    "setwd(\"C:/Users/yusukekita/Documents/github/anomaly_detection/dataset\")\n",
    "getwd()"
   ]
  },
  {
   "cell_type": "markdown",
   "id": "aaac60c3-776e-4ac3-9897-5823534d4860",
   "metadata": {},
   "source": [
    "1. Davis"
   ]
  },
  {
   "cell_type": "code",
   "execution_count": 4,
   "id": "b9088369-ef2f-44df-8585-3513aee8a84c",
   "metadata": {},
   "outputs": [
    {
     "data": {
      "text/html": [
       "<table class=\"dataframe\">\n",
       "<caption>A data.frame: 6 × 5</caption>\n",
       "<thead>\n",
       "\t<tr><th></th><th scope=col>sex</th><th scope=col>weight</th><th scope=col>height</th><th scope=col>repwt</th><th scope=col>repht</th></tr>\n",
       "\t<tr><th></th><th scope=col>&lt;fct&gt;</th><th scope=col>&lt;int&gt;</th><th scope=col>&lt;int&gt;</th><th scope=col>&lt;int&gt;</th><th scope=col>&lt;int&gt;</th></tr>\n",
       "</thead>\n",
       "<tbody>\n",
       "\t<tr><th scope=row>1</th><td>M</td><td>77</td><td>182</td><td>77</td><td>180</td></tr>\n",
       "\t<tr><th scope=row>2</th><td>F</td><td>58</td><td>161</td><td>51</td><td>159</td></tr>\n",
       "\t<tr><th scope=row>3</th><td>F</td><td>53</td><td>161</td><td>54</td><td>158</td></tr>\n",
       "\t<tr><th scope=row>4</th><td>M</td><td>68</td><td>177</td><td>70</td><td>175</td></tr>\n",
       "\t<tr><th scope=row>5</th><td>F</td><td>59</td><td>157</td><td>59</td><td>155</td></tr>\n",
       "\t<tr><th scope=row>6</th><td>M</td><td>76</td><td>170</td><td>76</td><td>165</td></tr>\n",
       "</tbody>\n",
       "</table>\n"
      ],
      "text/latex": [
       "A data.frame: 6 × 5\n",
       "\\begin{tabular}{r|lllll}\n",
       "  & sex & weight & height & repwt & repht\\\\\n",
       "  & <fct> & <int> & <int> & <int> & <int>\\\\\n",
       "\\hline\n",
       "\t1 & M & 77 & 182 & 77 & 180\\\\\n",
       "\t2 & F & 58 & 161 & 51 & 159\\\\\n",
       "\t3 & F & 53 & 161 & 54 & 158\\\\\n",
       "\t4 & M & 68 & 177 & 70 & 175\\\\\n",
       "\t5 & F & 59 & 157 & 59 & 155\\\\\n",
       "\t6 & M & 76 & 170 & 76 & 165\\\\\n",
       "\\end{tabular}\n"
      ],
      "text/markdown": [
       "\n",
       "A data.frame: 6 × 5\n",
       "\n",
       "| <!--/--> | sex &lt;fct&gt; | weight &lt;int&gt; | height &lt;int&gt; | repwt &lt;int&gt; | repht &lt;int&gt; |\n",
       "|---|---|---|---|---|---|\n",
       "| 1 | M | 77 | 182 | 77 | 180 |\n",
       "| 2 | F | 58 | 161 | 51 | 159 |\n",
       "| 3 | F | 53 | 161 | 54 | 158 |\n",
       "| 4 | M | 68 | 177 | 70 | 175 |\n",
       "| 5 | F | 59 | 157 | 59 | 155 |\n",
       "| 6 | M | 76 | 170 | 76 | 165 |\n",
       "\n"
      ],
      "text/plain": [
       "  sex weight height repwt repht\n",
       "1 M   77     182    77    180  \n",
       "2 F   58     161    51    159  \n",
       "3 F   53     161    54    158  \n",
       "4 M   68     177    70    175  \n",
       "5 F   59     157    59    155  \n",
       "6 M   76     170    76    165  "
      ]
     },
     "metadata": {},
     "output_type": "display_data"
    }
   ],
   "source": [
    "library(car)\n",
    "data(Davis)\n",
    "head(Davis)"
   ]
  },
  {
   "cell_type": "code",
   "execution_count": 14,
   "id": "86587296-26a3-4113-ad55-ef1f2482cc7c",
   "metadata": {},
   "outputs": [],
   "source": [
    "write.table(Davis, \"Davis.csv\", append = F,sep = \",\", row.names = F)"
   ]
  },
  {
   "cell_type": "markdown",
   "id": "3ba945b5-51f9-4378-8189-ec399282e8e6",
   "metadata": {},
   "source": [
    "2. car"
   ]
  },
  {
   "cell_type": "code",
   "execution_count": 16,
   "id": "2afa3b08-1437-47a4-9634-a1a405a42caf",
   "metadata": {},
   "outputs": [
    {
     "data": {
      "text/html": [
       "<table class=\"dataframe\">\n",
       "<caption>A data.frame: 6 × 6</caption>\n",
       "<thead>\n",
       "\t<tr><th></th><th scope=col>deaths</th><th scope=col>drivers</th><th scope=col>popden</th><th scope=col>rural</th><th scope=col>temp</th><th scope=col>fuel</th></tr>\n",
       "\t<tr><th></th><th scope=col>&lt;int&gt;</th><th scope=col>&lt;int&gt;</th><th scope=col>&lt;dbl&gt;</th><th scope=col>&lt;dbl&gt;</th><th scope=col>&lt;int&gt;</th><th scope=col>&lt;dbl&gt;</th></tr>\n",
       "</thead>\n",
       "<tbody>\n",
       "\t<tr><th scope=row>Alabama</th><td> 968</td><td>158</td><td> 64.0</td><td> 66.0</td><td>62</td><td>119.0</td></tr>\n",
       "\t<tr><th scope=row>Alaska</th><td>  43</td><td> 11</td><td>  0.4</td><td>  5.9</td><td>30</td><td>  6.2</td></tr>\n",
       "\t<tr><th scope=row>Arizona</th><td> 588</td><td> 91</td><td> 12.0</td><td> 33.0</td><td>64</td><td> 65.0</td></tr>\n",
       "\t<tr><th scope=row>Arkanas</th><td> 640</td><td> 92</td><td> 34.0</td><td> 73.0</td><td>51</td><td> 74.0</td></tr>\n",
       "\t<tr><th scope=row>Calif</th><td>4743</td><td>952</td><td>100.0</td><td>118.0</td><td>65</td><td>105.0</td></tr>\n",
       "\t<tr><th scope=row>Colo</th><td> 566</td><td>109</td><td> 17.0</td><td> 73.0</td><td>42</td><td> 78.0</td></tr>\n",
       "</tbody>\n",
       "</table>\n"
      ],
      "text/latex": [
       "A data.frame: 6 × 6\n",
       "\\begin{tabular}{r|llllll}\n",
       "  & deaths & drivers & popden & rural & temp & fuel\\\\\n",
       "  & <int> & <int> & <dbl> & <dbl> & <int> & <dbl>\\\\\n",
       "\\hline\n",
       "\tAlabama &  968 & 158 &  64.0 &  66.0 & 62 & 119.0\\\\\n",
       "\tAlaska &   43 &  11 &   0.4 &   5.9 & 30 &   6.2\\\\\n",
       "\tArizona &  588 &  91 &  12.0 &  33.0 & 64 &  65.0\\\\\n",
       "\tArkanas &  640 &  92 &  34.0 &  73.0 & 51 &  74.0\\\\\n",
       "\tCalif & 4743 & 952 & 100.0 & 118.0 & 65 & 105.0\\\\\n",
       "\tColo &  566 & 109 &  17.0 &  73.0 & 42 &  78.0\\\\\n",
       "\\end{tabular}\n"
      ],
      "text/markdown": [
       "\n",
       "A data.frame: 6 × 6\n",
       "\n",
       "| <!--/--> | deaths &lt;int&gt; | drivers &lt;int&gt; | popden &lt;dbl&gt; | rural &lt;dbl&gt; | temp &lt;int&gt; | fuel &lt;dbl&gt; |\n",
       "|---|---|---|---|---|---|---|\n",
       "| Alabama |  968 | 158 |  64.0 |  66.0 | 62 | 119.0 |\n",
       "| Alaska |   43 |  11 |   0.4 |   5.9 | 30 |   6.2 |\n",
       "| Arizona |  588 |  91 |  12.0 |  33.0 | 64 |  65.0 |\n",
       "| Arkanas |  640 |  92 |  34.0 |  73.0 | 51 |  74.0 |\n",
       "| Calif | 4743 | 952 | 100.0 | 118.0 | 65 | 105.0 |\n",
       "| Colo |  566 | 109 |  17.0 |  73.0 | 42 |  78.0 |\n",
       "\n"
      ],
      "text/plain": [
       "        deaths drivers popden rural temp fuel \n",
       "Alabama  968   158      64.0   66.0 62   119.0\n",
       "Alaska    43    11       0.4    5.9 30     6.2\n",
       "Arizona  588    91      12.0   33.0 64    65.0\n",
       "Arkanas  640    92      34.0   73.0 51    74.0\n",
       "Calif   4743   952     100.0  118.0 65   105.0\n",
       "Colo     566   109      17.0   73.0 42    78.0"
      ]
     },
     "metadata": {},
     "output_type": "display_data"
    }
   ],
   "source": [
    "library(MASS)\n",
    "head(road)"
   ]
  },
  {
   "cell_type": "code",
   "execution_count": 20,
   "id": "6f109c71-5603-4dd6-9662-e5a8ba537918",
   "metadata": {},
   "outputs": [],
   "source": [
    "write.csv(road, \"road.csv\")"
   ]
  },
  {
   "cell_type": "markdown",
   "id": "6fa5905f-1a12-4cb1-a5f5-43e6285483fb",
   "metadata": {},
   "source": [
    "3. Cars93"
   ]
  },
  {
   "cell_type": "code",
   "execution_count": 21,
   "id": "ccb0c068-46a1-4f7d-98e5-351f9bb96c1c",
   "metadata": {},
   "outputs": [
    {
     "data": {
      "text/html": [
       "<table class=\"dataframe\">\n",
       "<caption>A data.frame: 6 × 27</caption>\n",
       "<thead>\n",
       "\t<tr><th></th><th scope=col>Manufacturer</th><th scope=col>Model</th><th scope=col>Type</th><th scope=col>Min.Price</th><th scope=col>Price</th><th scope=col>Max.Price</th><th scope=col>MPG.city</th><th scope=col>MPG.highway</th><th scope=col>AirBags</th><th scope=col>DriveTrain</th><th scope=col>⋯</th><th scope=col>Passengers</th><th scope=col>Length</th><th scope=col>Wheelbase</th><th scope=col>Width</th><th scope=col>Turn.circle</th><th scope=col>Rear.seat.room</th><th scope=col>Luggage.room</th><th scope=col>Weight</th><th scope=col>Origin</th><th scope=col>Make</th></tr>\n",
       "\t<tr><th></th><th scope=col>&lt;fct&gt;</th><th scope=col>&lt;fct&gt;</th><th scope=col>&lt;fct&gt;</th><th scope=col>&lt;dbl&gt;</th><th scope=col>&lt;dbl&gt;</th><th scope=col>&lt;dbl&gt;</th><th scope=col>&lt;int&gt;</th><th scope=col>&lt;int&gt;</th><th scope=col>&lt;fct&gt;</th><th scope=col>&lt;fct&gt;</th><th scope=col>⋯</th><th scope=col>&lt;int&gt;</th><th scope=col>&lt;int&gt;</th><th scope=col>&lt;int&gt;</th><th scope=col>&lt;int&gt;</th><th scope=col>&lt;int&gt;</th><th scope=col>&lt;dbl&gt;</th><th scope=col>&lt;int&gt;</th><th scope=col>&lt;int&gt;</th><th scope=col>&lt;fct&gt;</th><th scope=col>&lt;fct&gt;</th></tr>\n",
       "</thead>\n",
       "<tbody>\n",
       "\t<tr><th scope=row>1</th><td>Acura</td><td>Integra</td><td>Small  </td><td>12.9</td><td>15.9</td><td>18.8</td><td>25</td><td>31</td><td>None              </td><td>Front</td><td>⋯</td><td>5</td><td>177</td><td>102</td><td>68</td><td>37</td><td>26.5</td><td>11</td><td>2705</td><td>non-USA</td><td>Acura Integra</td></tr>\n",
       "\t<tr><th scope=row>2</th><td>Acura</td><td>Legend </td><td>Midsize</td><td>29.2</td><td>33.9</td><td>38.7</td><td>18</td><td>25</td><td>Driver &amp; Passenger</td><td>Front</td><td>⋯</td><td>5</td><td>195</td><td>115</td><td>71</td><td>38</td><td>30.0</td><td>15</td><td>3560</td><td>non-USA</td><td>Acura Legend </td></tr>\n",
       "\t<tr><th scope=row>3</th><td>Audi </td><td>90     </td><td>Compact</td><td>25.9</td><td>29.1</td><td>32.3</td><td>20</td><td>26</td><td>Driver only       </td><td>Front</td><td>⋯</td><td>5</td><td>180</td><td>102</td><td>67</td><td>37</td><td>28.0</td><td>14</td><td>3375</td><td>non-USA</td><td>Audi 90      </td></tr>\n",
       "\t<tr><th scope=row>4</th><td>Audi </td><td><span style=white-space:pre-wrap>100    </span></td><td>Midsize</td><td>30.8</td><td>37.7</td><td>44.6</td><td>19</td><td>26</td><td>Driver &amp; Passenger</td><td>Front</td><td>⋯</td><td>6</td><td>193</td><td>106</td><td>70</td><td>37</td><td>31.0</td><td>17</td><td>3405</td><td>non-USA</td><td><span style=white-space:pre-wrap>Audi 100     </span></td></tr>\n",
       "\t<tr><th scope=row>5</th><td>BMW  </td><td>535i   </td><td>Midsize</td><td>23.7</td><td>30.0</td><td>36.2</td><td>22</td><td>30</td><td>Driver only       </td><td>Rear </td><td>⋯</td><td>4</td><td>186</td><td>109</td><td>69</td><td>39</td><td>27.0</td><td>13</td><td>3640</td><td>non-USA</td><td>BMW 535i     </td></tr>\n",
       "\t<tr><th scope=row>6</th><td>Buick</td><td>Century</td><td>Midsize</td><td>14.2</td><td>15.7</td><td>17.3</td><td>22</td><td>31</td><td>Driver only       </td><td>Front</td><td>⋯</td><td>6</td><td>189</td><td>105</td><td>69</td><td>41</td><td>28.0</td><td>16</td><td>2880</td><td>USA    </td><td>Buick Century</td></tr>\n",
       "</tbody>\n",
       "</table>\n"
      ],
      "text/latex": [
       "A data.frame: 6 × 27\n",
       "\\begin{tabular}{r|lllllllllllllllllllll}\n",
       "  & Manufacturer & Model & Type & Min.Price & Price & Max.Price & MPG.city & MPG.highway & AirBags & DriveTrain & ⋯ & Passengers & Length & Wheelbase & Width & Turn.circle & Rear.seat.room & Luggage.room & Weight & Origin & Make\\\\\n",
       "  & <fct> & <fct> & <fct> & <dbl> & <dbl> & <dbl> & <int> & <int> & <fct> & <fct> & ⋯ & <int> & <int> & <int> & <int> & <int> & <dbl> & <int> & <int> & <fct> & <fct>\\\\\n",
       "\\hline\n",
       "\t1 & Acura & Integra & Small   & 12.9 & 15.9 & 18.8 & 25 & 31 & None               & Front & ⋯ & 5 & 177 & 102 & 68 & 37 & 26.5 & 11 & 2705 & non-USA & Acura Integra\\\\\n",
       "\t2 & Acura & Legend  & Midsize & 29.2 & 33.9 & 38.7 & 18 & 25 & Driver \\& Passenger & Front & ⋯ & 5 & 195 & 115 & 71 & 38 & 30.0 & 15 & 3560 & non-USA & Acura Legend \\\\\n",
       "\t3 & Audi  & 90      & Compact & 25.9 & 29.1 & 32.3 & 20 & 26 & Driver only        & Front & ⋯ & 5 & 180 & 102 & 67 & 37 & 28.0 & 14 & 3375 & non-USA & Audi 90      \\\\\n",
       "\t4 & Audi  & 100     & Midsize & 30.8 & 37.7 & 44.6 & 19 & 26 & Driver \\& Passenger & Front & ⋯ & 6 & 193 & 106 & 70 & 37 & 31.0 & 17 & 3405 & non-USA & Audi 100     \\\\\n",
       "\t5 & BMW   & 535i    & Midsize & 23.7 & 30.0 & 36.2 & 22 & 30 & Driver only        & Rear  & ⋯ & 4 & 186 & 109 & 69 & 39 & 27.0 & 13 & 3640 & non-USA & BMW 535i     \\\\\n",
       "\t6 & Buick & Century & Midsize & 14.2 & 15.7 & 17.3 & 22 & 31 & Driver only        & Front & ⋯ & 6 & 189 & 105 & 69 & 41 & 28.0 & 16 & 2880 & USA     & Buick Century\\\\\n",
       "\\end{tabular}\n"
      ],
      "text/markdown": [
       "\n",
       "A data.frame: 6 × 27\n",
       "\n",
       "| <!--/--> | Manufacturer &lt;fct&gt; | Model &lt;fct&gt; | Type &lt;fct&gt; | Min.Price &lt;dbl&gt; | Price &lt;dbl&gt; | Max.Price &lt;dbl&gt; | MPG.city &lt;int&gt; | MPG.highway &lt;int&gt; | AirBags &lt;fct&gt; | DriveTrain &lt;fct&gt; | ⋯ ⋯ | Passengers &lt;int&gt; | Length &lt;int&gt; | Wheelbase &lt;int&gt; | Width &lt;int&gt; | Turn.circle &lt;int&gt; | Rear.seat.room &lt;dbl&gt; | Luggage.room &lt;int&gt; | Weight &lt;int&gt; | Origin &lt;fct&gt; | Make &lt;fct&gt; |\n",
       "|---|---|---|---|---|---|---|---|---|---|---|---|---|---|---|---|---|---|---|---|---|---|\n",
       "| 1 | Acura | Integra | Small   | 12.9 | 15.9 | 18.8 | 25 | 31 | None               | Front | ⋯ | 5 | 177 | 102 | 68 | 37 | 26.5 | 11 | 2705 | non-USA | Acura Integra |\n",
       "| 2 | Acura | Legend  | Midsize | 29.2 | 33.9 | 38.7 | 18 | 25 | Driver &amp; Passenger | Front | ⋯ | 5 | 195 | 115 | 71 | 38 | 30.0 | 15 | 3560 | non-USA | Acura Legend  |\n",
       "| 3 | Audi  | 90      | Compact | 25.9 | 29.1 | 32.3 | 20 | 26 | Driver only        | Front | ⋯ | 5 | 180 | 102 | 67 | 37 | 28.0 | 14 | 3375 | non-USA | Audi 90       |\n",
       "| 4 | Audi  | 100     | Midsize | 30.8 | 37.7 | 44.6 | 19 | 26 | Driver &amp; Passenger | Front | ⋯ | 6 | 193 | 106 | 70 | 37 | 31.0 | 17 | 3405 | non-USA | Audi 100      |\n",
       "| 5 | BMW   | 535i    | Midsize | 23.7 | 30.0 | 36.2 | 22 | 30 | Driver only        | Rear  | ⋯ | 4 | 186 | 109 | 69 | 39 | 27.0 | 13 | 3640 | non-USA | BMW 535i      |\n",
       "| 6 | Buick | Century | Midsize | 14.2 | 15.7 | 17.3 | 22 | 31 | Driver only        | Front | ⋯ | 6 | 189 | 105 | 69 | 41 | 28.0 | 16 | 2880 | USA     | Buick Century |\n",
       "\n"
      ],
      "text/plain": [
       "  Manufacturer Model   Type    Min.Price Price Max.Price MPG.city MPG.highway\n",
       "1 Acura        Integra Small   12.9      15.9  18.8      25       31         \n",
       "2 Acura        Legend  Midsize 29.2      33.9  38.7      18       25         \n",
       "3 Audi         90      Compact 25.9      29.1  32.3      20       26         \n",
       "4 Audi         100     Midsize 30.8      37.7  44.6      19       26         \n",
       "5 BMW          535i    Midsize 23.7      30.0  36.2      22       30         \n",
       "6 Buick        Century Midsize 14.2      15.7  17.3      22       31         \n",
       "  AirBags            DriveTrain ⋯ Passengers Length Wheelbase Width Turn.circle\n",
       "1 None               Front      ⋯ 5          177    102       68    37         \n",
       "2 Driver & Passenger Front      ⋯ 5          195    115       71    38         \n",
       "3 Driver only        Front      ⋯ 5          180    102       67    37         \n",
       "4 Driver & Passenger Front      ⋯ 6          193    106       70    37         \n",
       "5 Driver only        Rear       ⋯ 4          186    109       69    39         \n",
       "6 Driver only        Front      ⋯ 6          189    105       69    41         \n",
       "  Rear.seat.room Luggage.room Weight Origin  Make         \n",
       "1 26.5           11           2705   non-USA Acura Integra\n",
       "2 30.0           15           3560   non-USA Acura Legend \n",
       "3 28.0           14           3375   non-USA Audi 90      \n",
       "4 31.0           17           3405   non-USA Audi 100     \n",
       "5 27.0           13           3640   non-USA BMW 535i     \n",
       "6 28.0           16           2880   USA     Buick Century"
      ]
     },
     "metadata": {},
     "output_type": "display_data"
    }
   ],
   "source": [
    "head(Cars93)"
   ]
  },
  {
   "cell_type": "code",
   "execution_count": 22,
   "id": "bb5ac926-ff48-4fe7-8d6b-db7c28561c09",
   "metadata": {},
   "outputs": [],
   "source": [
    "write.csv(Cars93, \"Cars93.csv\")"
   ]
  }
 ],
 "metadata": {
  "kernelspec": {
   "display_name": "R",
   "language": "R",
   "name": "ir"
  },
  "language_info": {
   "codemirror_mode": "r",
   "file_extension": ".r",
   "mimetype": "text/x-r-source",
   "name": "R",
   "pygments_lexer": "r",
   "version": "4.4.0"
  }
 },
 "nbformat": 4,
 "nbformat_minor": 5
}
